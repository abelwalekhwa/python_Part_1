{
  "nbformat": 4,
  "nbformat_minor": 0,
  "metadata": {
    "colab": {
      "provenance": [],
      "include_colab_link": true
    },
    "kernelspec": {
      "name": "python3",
      "display_name": "Python 3"
    },
    "language_info": {
      "name": "python"
    }
  },
  "cells": [
    {
      "cell_type": "markdown",
      "metadata": {
        "id": "view-in-github",
        "colab_type": "text"
      },
      "source": [
        "<a href=\"https://colab.research.google.com/github/abelwalekhwa/python_Part_1/blob/main/Copy_of_Python_Practical_1.ipynb\" target=\"_parent\"><img src=\"https://colab.research.google.com/assets/colab-badge.svg\" alt=\"Open In Colab\"/></a>"
      ]
    },
    {
      "cell_type": "markdown",
      "source": [
        "# **Python Programming for Machine Learning**"
      ],
      "metadata": {
        "id": "qHOOObDwMfkc"
      }
    },
    {
      "cell_type": "markdown",
      "source": [
        "**Guidelines:**\n",
        "\n",
        "Save a copy of this Notebook to your drive and work and share after to your github account.\n",
        "\n",
        "Powerpoint: [Download](https://drive.google.com/file/d/1ut8RJ44qjfM4uSX9QyKZ4dIO2AzKPNun/view?usp=share_link)\n",
        "\n",
        "1. Read the instructions carefully before attempting each exercise.\n",
        "2. Make sure to test your code with different input values to ensure it works as expected.\n",
        "3. Use appropriate variable names and comments to make your code easy to understand.\n",
        "4. If you're unsure how to solve an exercise, try breaking it down into smaller parts and tackling each part separately.\n",
        "5. Feel free to use online resources or ask for help if you get stuck.\n",
        "\n",
        "\n",
        "\n",
        "**Warnings:**\n",
        "\n",
        "1. Be careful when using user input, as it may not always be in the expected format. Make sure to handle errors and invalid input appropriately.\n",
        "\n",
        "2. When working with floats, be aware that floating point arithmetic can sometimes result in rounding errors or unexpected behavior.\n",
        "Be careful when swapping values in Exercise 8, as you may accidentally overwrite one of the values.\n",
        "\n",
        "3. When checking if a string contains a certain substring in Exercise 14, be aware that the function you use may be case-sensitive.\n",
        "\n",
        "4. Be careful when checking if the difference of two floats is less than a threshold in Exercise 13, as floating point arithmetic may result in unexpected behavior.\n",
        "\n",
        "5. Comment on your work for better understanding."
      ],
      "metadata": {
        "id": "0ipwIDxyLzEN"
      }
    },
    {
      "cell_type": "markdown",
      "source": [
        "Write a program that takes an integer input from the user and prints out its square."
      ],
      "metadata": {
        "id": "0DjsAF5JMpI4"
      }
    },
    {
      "cell_type": "code",
      "execution_count": null,
      "metadata": {
        "id": "nIcy1W69LnNx",
        "colab": {
          "base_uri": "https://localhost:8080/"
        },
        "outputId": "6f80ed5d-1ba3-40b3-bbbb-ec57e64ce72b"
      },
      "outputs": [
        {
          "output_type": "stream",
          "name": "stdout",
          "text": [
            "the square of 2 is 4\n"
          ]
        }
      ],
      "source": [
        "# Getting integers to printing\n",
        "## I chose the integer of 2\n",
        "n = 2\n",
        "print('the square of 2 is', int(2*2))"
      ]
    },
    {
      "cell_type": "markdown",
      "source": [
        "Write a program that takes two integer inputs from the user and prints out their sum, difference, product, and quotient."
      ],
      "metadata": {
        "id": "Tj6gWJ-TMv66"
      }
    },
    {
      "cell_type": "code",
      "source": [
        "## Getting two integers\n",
        "# consider two integers of 4 and 6\n",
        "print('the sum of 4 and 6 is', int(4+6))\n",
        "print('the difference of 4 and 6 is', int(4-6))\n",
        "print('the product of 4 and 6 is', int(4*6))\n",
        "print('the quotient of 4 and 6 is', int(4/6))"
      ],
      "metadata": {
        "id": "eT-b-CfhMzWJ",
        "colab": {
          "base_uri": "https://localhost:8080/"
        },
        "outputId": "57a25452-e7e6-4aa5-e3ac-592a83da7733"
      },
      "execution_count": null,
      "outputs": [
        {
          "output_type": "stream",
          "name": "stdout",
          "text": [
            "the sum of 4 and 6 is 10\n",
            "the difference of 4 and 6 is -2\n",
            "the product of 4 and 6 is 24\n",
            "the quotient of 4 and 6 is 0\n"
          ]
        }
      ]
    },
    {
      "cell_type": "markdown",
      "source": [
        "Write a program that takes a float input from the user and rounds it to the nearest integer."
      ],
      "metadata": {
        "id": "XPwkKeBzMzwy"
      }
    },
    {
      "cell_type": "code",
      "source": [
        "#Getting a float into an integer\n",
        "int(3.712)"
      ],
      "metadata": {
        "id": "t0S8Ivy3NEBK",
        "colab": {
          "base_uri": "https://localhost:8080/"
        },
        "outputId": "ea70c219-69cf-4a10-9aae-a500d6f7b7e7"
      },
      "execution_count": null,
      "outputs": [
        {
          "output_type": "execute_result",
          "data": {
            "text/plain": [
              "3"
            ]
          },
          "metadata": {},
          "execution_count": 7
        }
      ]
    },
    {
      "cell_type": "markdown",
      "source": [
        "Write a program that takes a string input from the user and prints out its length."
      ],
      "metadata": {
        "id": "e8xEiTPqNEf7"
      }
    },
    {
      "cell_type": "code",
      "source": [
        "## Getting a string and printing it out\n",
        "n = 'abel'\n",
        "# Printing it's length\n",
        "print('the length of n is', str(n))\n"
      ],
      "metadata": {
        "id": "QNWucVFHNHoD",
        "colab": {
          "base_uri": "https://localhost:8080/"
        },
        "outputId": "b4221247-c7d5-410a-b202-379b03d2424f"
      },
      "execution_count": null,
      "outputs": [
        {
          "output_type": "stream",
          "name": "stdout",
          "text": [
            "the length of n is abel\n"
          ]
        }
      ]
    },
    {
      "cell_type": "markdown",
      "source": [
        "Write a program that takes a string input from the user and prints out its first and last characters."
      ],
      "metadata": {
        "id": "Q6uZ4OQbNIZS"
      }
    },
    {
      "cell_type": "code",
      "source": [
        "## Getting the first and last characters of a string\n",
        "n = 'abel'\n",
        "print('the first and last characters of n is', str(n) )\n",
        "\n"
      ],
      "metadata": {
        "id": "Ks8l4Q9kNL9L",
        "colab": {
          "base_uri": "https://localhost:8080/"
        },
        "outputId": "a4f0fae0-eb1f-497a-e77b-1310ba868704"
      },
      "execution_count": null,
      "outputs": [
        {
          "output_type": "stream",
          "name": "stdout",
          "text": [
            "the first and last characters of n is abel\n"
          ]
        }
      ]
    },
    {
      "cell_type": "markdown",
      "source": [
        "Write a program that takes two string inputs from the user and concatenates them."
      ],
      "metadata": {
        "id": "WCHim8cENMaS"
      }
    },
    {
      "cell_type": "code",
      "source": [
        "## Getting the strings and concatenating them \n",
        "n= 'acadia'\n",
        "m = 'mango'\n",
        "str(n,m)"
      ],
      "metadata": {
        "id": "khjMlQ8-NPZC",
        "colab": {
          "base_uri": "https://localhost:8080/",
          "height": 204
        },
        "outputId": "d39a9ff4-69b3-400d-d4ad-bb94a55c7039"
      },
      "execution_count": null,
      "outputs": [
        {
          "output_type": "error",
          "ename": "TypeError",
          "evalue": "ignored",
          "traceback": [
            "\u001b[0;31m---------------------------------------------------------------------------\u001b[0m",
            "\u001b[0;31mTypeError\u001b[0m                                 Traceback (most recent call last)",
            "\u001b[0;32m<ipython-input-21-66c8c8835928>\u001b[0m in \u001b[0;36m<cell line: 4>\u001b[0;34m()\u001b[0m\n\u001b[1;32m      2\u001b[0m \u001b[0mn\u001b[0m\u001b[0;34m=\u001b[0m \u001b[0;34m'acadia'\u001b[0m\u001b[0;34m\u001b[0m\u001b[0;34m\u001b[0m\u001b[0m\n\u001b[1;32m      3\u001b[0m \u001b[0mm\u001b[0m \u001b[0;34m=\u001b[0m \u001b[0;34m'mango'\u001b[0m\u001b[0;34m\u001b[0m\u001b[0;34m\u001b[0m\u001b[0m\n\u001b[0;32m----> 4\u001b[0;31m \u001b[0mstr\u001b[0m\u001b[0;34m(\u001b[0m\u001b[0mn\u001b[0m\u001b[0;34m,\u001b[0m\u001b[0mm\u001b[0m\u001b[0;34m)\u001b[0m\u001b[0;34m\u001b[0m\u001b[0;34m\u001b[0m\u001b[0m\n\u001b[0m",
            "\u001b[0;31mTypeError\u001b[0m: decoding str is not supported"
          ]
        }
      ]
    },
    {
      "cell_type": "markdown",
      "source": [
        "Write a program that takes a string input from the user and prints out each character on a new line."
      ],
      "metadata": {
        "id": "0MHCi7DHNPzK"
      }
    },
    {
      "cell_type": "code",
      "source": [
        "## Getting a string\n",
        "m = 'abel'\n",
        "print('each character on a new line', str(m))"
      ],
      "metadata": {
        "id": "-BXOi1hyNUYc",
        "colab": {
          "base_uri": "https://localhost:8080/",
          "height": 204
        },
        "outputId": "859b08d1-47ad-41da-9a1d-6dbe789020b6"
      },
      "execution_count": null,
      "outputs": [
        {
          "output_type": "error",
          "ename": "NameError",
          "evalue": "ignored",
          "traceback": [
            "\u001b[0;31m---------------------------------------------------------------------------\u001b[0m",
            "\u001b[0;31mNameError\u001b[0m                                 Traceback (most recent call last)",
            "\u001b[0;32m<ipython-input-22-f2a3597bb468>\u001b[0m in \u001b[0;36m<cell line: 3>\u001b[0;34m()\u001b[0m\n\u001b[1;32m      1\u001b[0m \u001b[0;31m## Getting a string\u001b[0m\u001b[0;34m\u001b[0m\u001b[0;34m\u001b[0m\u001b[0m\n\u001b[1;32m      2\u001b[0m \u001b[0mm\u001b[0m \u001b[0;34m=\u001b[0m \u001b[0;34m'abel'\u001b[0m\u001b[0;34m\u001b[0m\u001b[0;34m\u001b[0m\u001b[0m\n\u001b[0;32m----> 3\u001b[0;31m \u001b[0mprint\u001b[0m\u001b[0;34m(\u001b[0m\u001b[0;34m'each character on a new line'\u001b[0m\u001b[0;34m,\u001b[0m \u001b[0mstr\u001b[0m\u001b[0;34m(\u001b[0m\u001b[0ma\u001b[0m\u001b[0;34m,\u001b[0m\u001b[0mb\u001b[0m\u001b[0;34m,\u001b[0m\u001b[0me\u001b[0m\u001b[0;34m,\u001b[0m\u001b[0ml\u001b[0m\u001b[0;34m)\u001b[0m\u001b[0;34m)\u001b[0m\u001b[0;34m\u001b[0m\u001b[0;34m\u001b[0m\u001b[0m\n\u001b[0m",
            "\u001b[0;31mNameError\u001b[0m: name 'a' is not defined"
          ]
        }
      ]
    },
    {
      "cell_type": "markdown",
      "source": [
        "Write a program that takes two integer inputs from the user and swaps their values."
      ],
      "metadata": {
        "id": "R9He6vFCNUsa"
      }
    },
    {
      "cell_type": "code",
      "source": [
        "\n",
        "\n",
        "x,y=10,20\n",
        "x,y=y,x"
      ],
      "metadata": {
        "id": "Qye59Ltbhw0z"
      },
      "execution_count": null,
      "outputs": []
    },
    {
      "cell_type": "code",
      "source": [],
      "metadata": {
        "id": "b0Dqhg8qy7C3"
      },
      "execution_count": null,
      "outputs": []
    },
    {
      "cell_type": "markdown",
      "source": [],
      "metadata": {
        "id": "qr1pG5Try6Gh"
      }
    },
    {
      "cell_type": "code",
      "source": [
        "\n"
      ],
      "metadata": {
        "id": "_432BT0zjPRQ"
      },
      "execution_count": null,
      "outputs": []
    },
    {
      "cell_type": "code",
      "source": [],
      "metadata": {
        "id": "xVZO3GI3NW6D"
      },
      "execution_count": null,
      "outputs": []
    },
    {
      "cell_type": "markdown",
      "source": [
        "Write a program that takes a string input from the user and converts it to an integer."
      ],
      "metadata": {
        "id": "YXEHiJOxNcLC"
      }
    },
    {
      "cell_type": "code",
      "source": [
        "# string-input = int(\"enter a string: \")\n",
        "# convert string to integer\n",
        "integer-output = int(string-input)\n",
        "# print the output\n",
        "print(\"input string: \", string-input)\n",
        "print(\"output integer: \", integer-output)"
      ],
      "metadata": {
        "id": "Nyu5jmEaNf-k"
      },
      "execution_count": null,
      "outputs": []
    },
    {
      "cell_type": "markdown",
      "source": [
        "Write a program that takes a string input from the user and checks if it is a palindrome (i.e., reads the same forwards and backwards)."
      ],
      "metadata": {
        "id": "c2H8oFf-NgTq"
      }
    },
    {
      "cell_type": "code",
      "source": [
        "string \"madam\"\n",
        "s=input(\"madam:\")\n",
        "reverse= s[::-1]\n",
        "if(s==reverse):\n",
        "  print(\"yes it is a palindrome \")\n",
        "  else:\n",
        "    print(\"no it is not a palindrome \")"
      ],
      "metadata": {
        "id": "Uf4XGyVMNjT6"
      },
      "execution_count": null,
      "outputs": []
    },
    {
      "cell_type": "markdown",
      "source": [
        "Write a program that takes two integer inputs from the user and checks if they are equal."
      ],
      "metadata": {
        "id": "p43L90sYNjpy"
      }
    },
    {
      "cell_type": "code",
      "source": [
        "is number1 = number2"
      ],
      "metadata": {
        "id": "9FnUyjZhNmei",
        "colab": {
          "base_uri": "https://localhost:8080/",
          "height": 130
        },
        "outputId": "7e1d67f1-78b9-4101-a770-799a07c77216"
      },
      "execution_count": null,
      "outputs": [
        {
          "output_type": "error",
          "ename": "SyntaxError",
          "evalue": "ignored",
          "traceback": [
            "\u001b[0;36m  File \u001b[0;32m\"<ipython-input-34-ab7f10926a14>\"\u001b[0;36m, line \u001b[0;32m1\u001b[0m\n\u001b[0;31m    is number1 = number2\u001b[0m\n\u001b[0m    ^\u001b[0m\n\u001b[0;31mSyntaxError\u001b[0m\u001b[0;31m:\u001b[0m invalid syntax\n"
          ]
        }
      ]
    },
    {
      "cell_type": "markdown",
      "source": [
        "Write a program that takes two float inputs from the user and checks if their difference is less than a certain threshold (e.g., 0.0001)."
      ],
      "metadata": {
        "id": "ZuuprAScNqLL"
      }
    },
    {
      "cell_type": "code",
      "source": [
        "# take input from user\n",
        "string-input = input('hello')\n",
        "# calculate sum of ASCII codes\n",
        "ascii-sum = sum(ord(char) for char in string input)\n",
        "# check if sum is even or odd\n",
        "if ascii-sum % 2 = 0:\n",
        "  print('sum of ascii codes is even.')\n",
        "  else:\n",
        "    print('the sum of ascii codes is odd.')\n"
      ],
      "metadata": {
        "id": "ta8ZaS34NsiT"
      },
      "execution_count": null,
      "outputs": []
    },
    {
      "cell_type": "markdown",
      "source": [
        "Write a program that takes a string input from the user and checks if it contains a certain substring."
      ],
      "metadata": {
        "id": "8PJP2VF_Ns7j"
      }
    },
    {
      "cell_type": "code",
      "source": [
        "# z = x+y\n"
      ],
      "metadata": {
        "id": "ndlPeGR9NvHa"
      },
      "execution_count": null,
      "outputs": []
    },
    {
      "cell_type": "markdown",
      "source": [
        "Write a program that takes two integer inputs from the user and checks if their sum is even."
      ],
      "metadata": {
        "id": "T60nqIoJNvhr"
      }
    },
    {
      "cell_type": "code",
      "source": [
        "input\n",
        "27\n",
        "13"
      ],
      "metadata": {
        "id": "R7ct0p1_OFOj",
        "colab": {
          "base_uri": "https://localhost:8080/"
        },
        "outputId": "3c8d1d3b-9365-46e0-cfed-999b7e01a2bf"
      },
      "execution_count": null,
      "outputs": [
        {
          "output_type": "execute_result",
          "data": {
            "text/plain": [
              "13"
            ]
          },
          "metadata": {},
          "execution_count": 4
        }
      ]
    }
  ]
}