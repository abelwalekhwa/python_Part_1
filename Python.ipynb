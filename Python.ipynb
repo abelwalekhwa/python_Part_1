{
  "nbformat": 4,
  "nbformat_minor": 0,
  "metadata": {
    "colab": {
      "provenance": [],
      "authorship_tag": "ABX9TyPH0JuQoaDDtKQTRLV9quty",
      "include_colab_link": true
    },
    "kernelspec": {
      "name": "python3",
      "display_name": "Python 3"
    },
    "language_info": {
      "name": "python"
    }
  },
  "cells": [
    {
      "cell_type": "markdown",
      "metadata": {
        "id": "view-in-github",
        "colab_type": "text"
      },
      "source": [
        "<a href=\"https://colab.research.google.com/github/abelwalekhwa/python_Part_1/blob/main/Python.ipynb\" target=\"_parent\"><img src=\"https://colab.research.google.com/assets/colab-badge.svg\" alt=\"Open In Colab\"/></a>"
      ]
    },
    {
      "cell_type": "markdown",
      "source": [
        "**First day session with Python**"
      ],
      "metadata": {
        "id": "f5ejwX232L4k"
      }
    },
    {
      "cell_type": "markdown",
      "source": [
        "# Day 1"
      ],
      "metadata": {
        "id": "h19iSu8U2jtU"
      }
    },
    {
      "cell_type": "code",
      "source": [
        "# Getting age\n",
        "name = 'Abel'\n",
        "# Other ways of doing it\n",
        "type('Abel')\n",
        "# Number\n",
        "n = 2\n",
        "type(2)\n",
        "# Float\n",
        "n = 3.17\n",
        "type(3.17)\n",
        "# Printing\n"
      ],
      "metadata": {
        "colab": {
          "base_uri": "https://localhost:8080/"
        },
        "id": "gihUbBFxFB0u",
        "outputId": "e56cb8d9-095a-44c7-8a10-4fd729db7504"
      },
      "execution_count": 6,
      "outputs": [
        {
          "output_type": "execute_result",
          "data": {
            "text/plain": [
              "float"
            ]
          },
          "metadata": {},
          "execution_count": 6
        }
      ]
    },
    {
      "cell_type": "code",
      "execution_count": 1,
      "metadata": {
        "colab": {
          "base_uri": "https://localhost:8080/"
        },
        "id": "OtLuPWf9wtJv",
        "outputId": "26b9776b-c967-47ca-e2da-fec077baa37a"
      },
      "outputs": [
        {
          "output_type": "stream",
          "name": "stdout",
          "text": [
            "Hello World\n"
          ]
        }
      ],
      "source": [
        "print(\"Hello World\")"
      ]
    }
  ]
}