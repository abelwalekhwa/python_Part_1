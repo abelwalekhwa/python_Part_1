{
  "nbformat": 4,
  "nbformat_minor": 0,
  "metadata": {
    "colab": {
      "provenance": [],
      "include_colab_link": true
    },
    "kernelspec": {
      "name": "python3",
      "display_name": "Python 3"
    },
    "language_info": {
      "name": "python"
    }
  },
  "cells": [
    {
      "cell_type": "markdown",
      "metadata": {
        "id": "view-in-github",
        "colab_type": "text"
      },
      "source": [
        "<a href=\"https://colab.research.google.com/github/abelwalekhwa/python_Part_1/blob/main/Python_Practical_1.ipynb\" target=\"_parent\"><img src=\"https://colab.research.google.com/assets/colab-badge.svg\" alt=\"Open In Colab\"/></a>"
      ]
    },
    {
      "cell_type": "markdown",
      "source": [
        "# **Python Programming for Machine Learning**"
      ],
      "metadata": {
        "id": "qHOOObDwMfkc"
      }
    },
    {
      "cell_type": "markdown",
      "source": [
        "**Guidelines:**\n",
        "\n",
        "Save a copy of this Notebook to your drive and work and share after to your github account.\n",
        "\n",
        "Powerpoint: [Download](https://drive.google.com/file/d/1ut8RJ44qjfM4uSX9QyKZ4dIO2AzKPNun/view?usp=share_link)\n",
        "\n",
        "1. Read the instructions carefully before attempting each exercise.\n",
        "2. Make sure to test your code with different input values to ensure it works as expected.\n",
        "3. Use appropriate variable names and comments to make your code easy to understand.\n",
        "4. If you're unsure how to solve an exercise, try breaking it down into smaller parts and tackling each part separately.\n",
        "5. Feel free to use online resources or ask for help if you get stuck.\n",
        "\n",
        "\n",
        "\n",
        "**Warnings:**\n",
        "\n",
        "1. Be careful when using user input, as it may not always be in the expected format. Make sure to handle errors and invalid input appropriately.\n",
        "\n",
        "2. When working with floats, be aware that floating point arithmetic can sometimes result in rounding errors or unexpected behavior.\n",
        "Be careful when swapping values in Exercise 8, as you may accidentally overwrite one of the values.\n",
        "\n",
        "3. When checking if a string contains a certain substring in Exercise 14, be aware that the function you use may be case-sensitive.\n",
        "\n",
        "4. Be careful when checking if the difference of two floats is less than a threshold in Exercise 13, as floating point arithmetic may result in unexpected behavior.\n",
        "\n",
        "5. Comment on your work for better understanding."
      ],
      "metadata": {
        "id": "0ipwIDxyLzEN"
      }
    },
    {
      "cell_type": "markdown",
      "source": [
        "Write a program that takes an integer input from the user and prints out its square."
      ],
      "metadata": {
        "id": "0DjsAF5JMpI4"
      }
    },
    {
      "cell_type": "code",
      "execution_count": 2,
      "metadata": {
        "id": "nIcy1W69LnNx",
        "colab": {
          "base_uri": "https://localhost:8080/"
        },
        "outputId": "ade3efec-0c92-4aca-a247-9f9f31d51bcd"
      },
      "outputs": [
        {
          "output_type": "stream",
          "name": "stdout",
          "text": [
            "Enter an interger:3\n",
            "the square of 3 is 9\n"
          ]
        }
      ],
      "source": [
        "#Input for the user\n",
        "\n",
        "int_input = int(input(\"Enter an interger:\"))\n",
        "\n",
        "#the square of input\n",
        "\n",
        "square = int_input ** 2\n",
        "\n",
        "#printing the square\n",
        "print('the square of', int_input,'is',square)"
      ]
    },
    {
      "cell_type": "markdown",
      "source": [
        "Write a program that takes two integer inputs from the user and prints out their sum, difference, product, and quotient."
      ],
      "metadata": {
        "id": "Tj6gWJ-TMv66"
      }
    },
    {
      "cell_type": "code",
      "source": [
        "#  Getting two integers\n",
        "\n",
        "first_integer = int(input(\"Enter an integer:\"))\n",
        "second_integer = int(input(\"Enter an integer:\"))\n",
        "\n",
        "# Calculating the sum, difference, product and quotient\n",
        "\n",
        "sum = first_integer + second_integer\n",
        "difference = first_integer - second_integer\n",
        "product = first_integer * second_integer\n",
        "quotient = first_integer / second_integer\n",
        "\n",
        "#Printing the results \n",
        "print(\"Sum:\",sum)\n",
        "print(\"Difference:\",difference)\n",
        "print(\"Product:\", product)\n",
        "print(\"Quotient:\", quotient)"
      ],
      "metadata": {
        "id": "eT-b-CfhMzWJ",
        "colab": {
          "base_uri": "https://localhost:8080/"
        },
        "outputId": "1888d2fb-d197-4906-8a9b-1237869add76"
      },
      "execution_count": 3,
      "outputs": [
        {
          "output_type": "stream",
          "name": "stdout",
          "text": [
            "Enter an integer:2\n",
            "Enter an integer:5\n",
            "Sum: 7\n",
            "Difference: -3\n",
            "Product: 10\n",
            "Quotient: 0.4\n"
          ]
        }
      ]
    },
    {
      "cell_type": "markdown",
      "source": [
        "Write a program that takes a float input from the user and rounds it to the nearest integer."
      ],
      "metadata": {
        "id": "XPwkKeBzMzwy"
      }
    },
    {
      "cell_type": "code",
      "source": [
        "#Input for the user\n",
        "\n",
        "float_input = float(input(\"Enter an float:\"))\n",
        "\n",
        "#rounding the float \n",
        "rounded = round(float_input)\n",
        "\n",
        "#printing \n",
        "print(\"rounded:\", rounded )"
      ],
      "metadata": {
        "id": "t0S8Ivy3NEBK",
        "colab": {
          "base_uri": "https://localhost:8080/"
        },
        "outputId": "ea70c219-69cf-4a10-9aae-a500d6f7b7e7"
      },
      "execution_count": null,
      "outputs": [
        {
          "output_type": "execute_result",
          "data": {
            "text/plain": [
              "3"
            ]
          },
          "metadata": {},
          "execution_count": 7
        }
      ]
    },
    {
      "cell_type": "markdown",
      "source": [
        "Write a program that takes a string input from the user and prints out its length."
      ],
      "metadata": {
        "id": "e8xEiTPqNEf7"
      }
    },
    {
      "cell_type": "code",
      "source": [
        "#Input from the user \n",
        "string_input = input(\"Enter a string: \")\n",
        "\n",
        "#length of the string \n",
        "length = len(string_input)\n",
        "\n",
        "#printing \n",
        "print(\"The length of the string input is:\", length)"
      ],
      "metadata": {
        "id": "QNWucVFHNHoD",
        "colab": {
          "base_uri": "https://localhost:8080/"
        },
        "outputId": "6888e89b-0a56-4434-c474-a581769375ed"
      },
      "execution_count": null,
      "outputs": [
        {
          "output_type": "stream",
          "name": "stdout",
          "text": [
            "the length of n is abel\n"
          ]
        }
      ]
    },
    {
      "cell_type": "markdown",
      "source": [
        "Write a program that takes a string input from the user and prints out its first and last characters."
      ],
      "metadata": {
        "id": "Q6uZ4OQbNIZS"
      }
    },
    {
      "cell_type": "code",
      "source": [
        "#Input from the user \n",
        "string_input = input(\"Enter a string: \")\n",
        "\n",
        "#first and last characters \n",
        "first_character = string_input[0]\n",
        "last_character = string_input[-1]\n",
        "\n",
        "#printing \n",
        "print(\"The First character:\",first_character)\n",
        "print(\"The Last character:\",last_character)"
      ],
      "metadata": {
        "id": "Ks8l4Q9kNL9L",
        "colab": {
          "base_uri": "https://localhost:8080/"
        },
        "outputId": "027f4adf-fa22-4092-a3c2-4d7b38e6b7f3"
      },
      "execution_count": null,
      "outputs": [
        {
          "output_type": "stream",
          "name": "stdout",
          "text": [
            "Enter a string: Ivan\n",
            "The First character: I\n",
            "The Last character: n\n"
          ]
        }
      ]
    },
    {
      "cell_type": "markdown",
      "source": [
        "Write a program that takes two string inputs from the user and concatenates them."
      ],
      "metadata": {
        "id": "WCHim8cENMaS"
      }
    },
    {
      "cell_type": "code",
      "source": [
        "##Input from the user \n",
        "first_string = input(\"Enter the first string: \")\n",
        "second_string = input(\"Enter the second string: \")\n",
        "\n",
        "#Concatenating the two strings +\n",
        "concatenated_string = first_string + second_string\n",
        "\n",
        "#printing \n",
        "print(\"The concatenated string:\",concatenated_string)"
      ],
      "metadata": {
        "id": "khjMlQ8-NPZC",
        "colab": {
          "base_uri": "https://localhost:8080/"
        },
        "outputId": "8d34bfab-1723-4dc2-fa32-57e14b8a5c6b"
      },
      "execution_count": 4,
      "outputs": [
        {
          "output_type": "stream",
          "name": "stdout",
          "text": [
            "Enter the first string: Monkey\n",
            "Enter the second string: Puppy\n",
            "The concatenated string: MonkeyPuppy\n"
          ]
        }
      ]
    },
    {
      "cell_type": "markdown",
      "source": [
        "Write a program that takes a string input from the user and prints out each character on a new line."
      ],
      "metadata": {
        "id": "0MHCi7DHNPzK"
      }
    },
    {
      "cell_type": "code",
      "source": [
        "#Input from the user \n",
        "string_input = input(\"Enter a string: \")\n",
        "\n",
        "#printing each character \n",
        "#for loop\n",
        "for character in string_input:#character and string_input are variables\n",
        "  print(character)"
      ],
      "metadata": {
        "id": "-BXOi1hyNUYc",
        "colab": {
          "base_uri": "https://localhost:8080/"
        },
        "outputId": "bc345ccb-9bcb-4b38-8310-22def9188128"
      },
      "execution_count": 5,
      "outputs": [
        {
          "output_type": "stream",
          "name": "stdout",
          "text": [
            "Enter a string: Isaac\n",
            "I\n",
            "s\n",
            "a\n",
            "a\n",
            "c\n"
          ]
        }
      ]
    },
    {
      "cell_type": "markdown",
      "source": [
        "Write a program that takes two integer inputs from the user and swaps their values."
      ],
      "metadata": {
        "id": "R9He6vFCNUsa"
      }
    },
    {
      "cell_type": "code",
      "source": [
        "#Swapping the values of the two integers using temporary variable\n",
        "temp = first_integer\n",
        "first_integer = second_integer\n",
        "second_integer = temp\n",
        "\n",
        "#printing the swapped values \n",
        "\n",
        "print(\"After swapping:\")\n",
        "print(\"First integer:\",first_integer)\n",
        "print(\"Second integer:\",second_integer)"
      ],
      "metadata": {
        "id": "Qye59Ltbhw0z",
        "colab": {
          "base_uri": "https://localhost:8080/"
        },
        "outputId": "2d034a08-31d6-417b-8e7b-b9a75af2248e"
      },
      "execution_count": 7,
      "outputs": [
        {
          "output_type": "stream",
          "name": "stdout",
          "text": [
            "After swapping:\n",
            "First integer: 2\n",
            "Second integer: 5\n"
          ]
        }
      ]
    },
    {
      "cell_type": "code",
      "source": [],
      "metadata": {
        "id": "b0Dqhg8qy7C3"
      },
      "execution_count": null,
      "outputs": []
    },
    {
      "cell_type": "markdown",
      "source": [],
      "metadata": {
        "id": "qr1pG5Try6Gh"
      }
    },
    {
      "cell_type": "code",
      "source": [
        "\n"
      ],
      "metadata": {
        "id": "_432BT0zjPRQ"
      },
      "execution_count": null,
      "outputs": []
    },
    {
      "cell_type": "code",
      "source": [],
      "metadata": {
        "id": "xVZO3GI3NW6D"
      },
      "execution_count": null,
      "outputs": []
    },
    {
      "cell_type": "markdown",
      "source": [
        "Write a program that takes a string input from the user and converts it to an integer."
      ],
      "metadata": {
        "id": "YXEHiJOxNcLC"
      }
    },
    {
      "cell_type": "code",
      "source": [
        "#Input from the user \n",
        "string_input = input(\"Enter a string: \")\n",
        "\n",
        "#Converting the string into an integer\n",
        "integer_input = int(string_input)\n",
        "\n",
        "#printing \n",
        "print(\"The converted string:\",integer_input)"
      ],
      "metadata": {
        "id": "Nyu5jmEaNf-k",
        "colab": {
          "base_uri": "https://localhost:8080/"
        },
        "outputId": "e701aa4d-bee6-4d3b-d0ec-10524b35741e"
      },
      "execution_count": 8,
      "outputs": [
        {
          "output_type": "stream",
          "name": "stdout",
          "text": [
            "Enter a string: 222\n",
            "The converted string: 222\n"
          ]
        }
      ]
    },
    {
      "cell_type": "markdown",
      "source": [
        "Write a program that takes a string input from the user and checks if it is a palindrome (i.e., reads the same forwards and backwards)."
      ],
      "metadata": {
        "id": "c2H8oFf-NgTq"
      }
    },
    {
      "cell_type": "code",
      "source": [
        "string \"madam\"\n",
        "s=input(\"madam:\")\n",
        "reverse= s[::-1]\n",
        "if(s==reverse):\n",
        "  print(\"yes it is a palindrome \")\n",
        "  else:\n",
        "    print(\"no it is not a palindrome \")"
      ],
      "metadata": {
        "id": "Uf4XGyVMNjT6"
      },
      "execution_count": null,
      "outputs": []
    },
    {
      "cell_type": "markdown",
      "source": [
        "Write a program that takes two integer inputs from the user and checks if they are equal."
      ],
      "metadata": {
        "id": "p43L90sYNjpy"
      }
    },
    {
      "cell_type": "code",
      "source": [
        "# take integer input from user\n",
        "int1 = int(input('enter the first integer '))\n",
        "int2 = int(input('enter the second integer '))\n",
        "# check if the integers are equal\n",
        "if int1 = int2:\n",
        "  print ('the integers are equal.')\n",
        "else:\n",
        "  print('the integers are not equal.')"
      ],
      "metadata": {
        "id": "9FnUyjZhNmei"
      },
      "execution_count": null,
      "outputs": []
    },
    {
      "cell_type": "markdown",
      "source": [
        "Write a program that takes two float inputs from the user and checks if their difference is less than a certain threshold (e.g., 0.0001)."
      ],
      "metadata": {
        "id": "ZuuprAScNqLL"
      }
    },
    {
      "cell_type": "code",
      "source": [
        "# take input from user\n",
        "string-input = input('hello')\n",
        "# calculate sum of ASCII codes\n",
        "ascii-sum = sum(ord(char) for char in string input)\n",
        "# check if sum is even or odd\n",
        "if ascii-sum % 2 = 0:\n",
        "  print('sum of ascii codes is even.')\n",
        "  else:\n",
        "    print('the sum of ascii codes is odd.')\n"
      ],
      "metadata": {
        "id": "ta8ZaS34NsiT"
      },
      "execution_count": null,
      "outputs": []
    },
    {
      "cell_type": "markdown",
      "source": [
        "Write a program that takes a string input from the user and checks if it contains a certain substring."
      ],
      "metadata": {
        "id": "8PJP2VF_Ns7j"
      }
    },
    {
      "cell_type": "code",
      "source": [
        "str = input('hello world')\n",
        "substring = input('world')\n",
        "print('if the string contains substring')\n",
        "\n",
        "\n"
      ],
      "metadata": {
        "id": "ndlPeGR9NvHa"
      },
      "execution_count": null,
      "outputs": []
    },
    {
      "cell_type": "markdown",
      "source": [
        "Write a program that takes two integer inputs from the user and checks if their sum is even."
      ],
      "metadata": {
        "id": "T60nqIoJNvhr"
      }
    },
    {
      "cell_type": "code",
      "source": [
        "# first int: 1\n",
        "# second integer 7\n",
        "# the sum of the integers is"
      ],
      "metadata": {
        "id": "R7ct0p1_OFOj"
      },
      "execution_count": null,
      "outputs": []
    }
  ]
}